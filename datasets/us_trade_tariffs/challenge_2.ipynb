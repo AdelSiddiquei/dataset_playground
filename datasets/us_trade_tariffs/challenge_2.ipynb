{
 "cells": [
  {
   "cell_type": "markdown",
   "id": "f51e5b9b",
   "metadata": {},
   "source": [
    "# Challenge 2\n",
    "This challenge focuses on using `.groupby()` and `.agg()` for summarization, as well as multi-index sorting."
   ]
  },
  {
   "cell_type": "markdown",
   "id": "d31e8cd0",
   "metadata": {},
   "source": [
    "## Question 1\n",
    "Group the data by trump_tariffs_alleged."
   ]
  },
  {
   "cell_type": "code",
   "execution_count": null,
   "id": "a7c3aa20",
   "metadata": {},
   "outputs": [],
   "source": []
  }
 ],
 "metadata": {
  "language_info": {
   "name": "python"
  }
 },
 "nbformat": 4,
 "nbformat_minor": 5
}
