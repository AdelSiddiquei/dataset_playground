{
 "cells": [
  {
   "cell_type": "markdown",
   "id": "f995bccf",
   "metadata": {},
   "source": [
    "# Challenge 1\n",
    "This challenge tests your ability to parse and summarize a tabular dataset using basic pandas operations."
   ]
  },
  {
   "cell_type": "markdown",
   "id": "581cb9e3",
   "metadata": {},
   "source": [
    "## Question 1\n",
    "Load the dataset and display the first 5 rows."
   ]
  },
  {
   "cell_type": "code",
   "execution_count": null,
   "id": "7da9680d",
   "metadata": {},
   "outputs": [
    {
     "data": {
      "text/html": [
       "<div>\n",
       "<style scoped>\n",
       "    .dataframe tbody tr th:only-of-type {\n",
       "        vertical-align: middle;\n",
       "    }\n",
       "\n",
       "    .dataframe tbody tr th {\n",
       "        vertical-align: top;\n",
       "    }\n",
       "\n",
       "    .dataframe thead th {\n",
       "        text-align: right;\n",
       "    }\n",
       "</style>\n",
       "<table border=\"1\" class=\"dataframe\">\n",
       "  <thead>\n",
       "    <tr style=\"text-align: right;\">\n",
       "      <th></th>\n",
       "      <th>Country</th>\n",
       "      <th>US 2024 Deficit</th>\n",
       "      <th>US 2024 Exports</th>\n",
       "      <th>US 2024 Imports (Customs Basis)</th>\n",
       "      <th>Trump Tariffs Alleged</th>\n",
       "      <th>Trump Response</th>\n",
       "      <th>Population</th>\n",
       "    </tr>\n",
       "  </thead>\n",
       "  <tbody>\n",
       "    <tr>\n",
       "      <th>0</th>\n",
       "      <td>Afghanistan</td>\n",
       "      <td>-11.1</td>\n",
       "      <td>11.4</td>\n",
       "      <td>22.6</td>\n",
       "      <td>49%</td>\n",
       "      <td>25%</td>\n",
       "      <td>41454761.0</td>\n",
       "    </tr>\n",
       "    <tr>\n",
       "      <th>1</th>\n",
       "      <td>Albania</td>\n",
       "      <td>13.4</td>\n",
       "      <td>141.7</td>\n",
       "      <td>128.3</td>\n",
       "      <td>10%</td>\n",
       "      <td>10%</td>\n",
       "      <td>2745972.0</td>\n",
       "    </tr>\n",
       "    <tr>\n",
       "      <th>2</th>\n",
       "      <td>Algeria</td>\n",
       "      <td>-1,447.10</td>\n",
       "      <td>1,014.50</td>\n",
       "      <td>2,461.60</td>\n",
       "      <td>59%</td>\n",
       "      <td>29%</td>\n",
       "      <td>46164219.0</td>\n",
       "    </tr>\n",
       "    <tr>\n",
       "      <th>3</th>\n",
       "      <td>Andorra</td>\n",
       "      <td>1.5</td>\n",
       "      <td>4.9</td>\n",
       "      <td>3.4</td>\n",
       "      <td>10%</td>\n",
       "      <td>10%</td>\n",
       "      <td>80856.0</td>\n",
       "    </tr>\n",
       "    <tr>\n",
       "      <th>4</th>\n",
       "      <td>Angola</td>\n",
       "      <td>-1,186.90</td>\n",
       "      <td>682.4</td>\n",
       "      <td>1,869.20</td>\n",
       "      <td>63%</td>\n",
       "      <td>32%</td>\n",
       "      <td>36749906.0</td>\n",
       "    </tr>\n",
       "  </tbody>\n",
       "</table>\n",
       "</div>"
      ],
      "text/plain": [
       "       Country US 2024 Deficit US 2024 Exports  \\\n",
       "0  Afghanistan           -11.1            11.4   \n",
       "1      Albania            13.4           141.7   \n",
       "2      Algeria       -1,447.10        1,014.50   \n",
       "3      Andorra             1.5             4.9   \n",
       "4       Angola       -1,186.90           682.4   \n",
       "\n",
       "  US 2024 Imports (Customs Basis) Trump Tariffs Alleged Trump Response  \\\n",
       "0                            22.6                   49%            25%   \n",
       "1                           128.3                   10%            10%   \n",
       "2                        2,461.60                   59%            29%   \n",
       "3                             3.4                   10%            10%   \n",
       "4                        1,869.20                   63%            32%   \n",
       "\n",
       "   Population  \n",
       "0  41454761.0  \n",
       "1   2745972.0  \n",
       "2  46164219.0  \n",
       "3     80856.0  \n",
       "4  36749906.0  "
      ]
     },
     "execution_count": 43,
     "metadata": {},
     "output_type": "execute_result"
    }
   ],
   "source": [
    "import pandas as pd\n",
    "\n",
    "tariff_data = pd.read_csv(\n",
    "    \"./data/Tariff Calculations plus Population.csv\", delimiter=\";\"\n",
    ")\n",
    "\n",
    "tariff_data.head(5)"
   ]
  },
  {
   "cell_type": "markdown",
   "id": "d00f9597",
   "metadata": {},
   "source": [
    "## Question 2\n",
    "Clean column names to follow snake_case using str.lower() and str.replace()."
   ]
  },
  {
   "cell_type": "code",
   "execution_count": 44,
   "id": "e2c7fd18",
   "metadata": {},
   "outputs": [
    {
     "data": {
      "text/html": [
       "<div>\n",
       "<style scoped>\n",
       "    .dataframe tbody tr th:only-of-type {\n",
       "        vertical-align: middle;\n",
       "    }\n",
       "\n",
       "    .dataframe tbody tr th {\n",
       "        vertical-align: top;\n",
       "    }\n",
       "\n",
       "    .dataframe thead th {\n",
       "        text-align: right;\n",
       "    }\n",
       "</style>\n",
       "<table border=\"1\" class=\"dataframe\">\n",
       "  <thead>\n",
       "    <tr style=\"text-align: right;\">\n",
       "      <th></th>\n",
       "      <th>country</th>\n",
       "      <th>us_2024_deficit</th>\n",
       "      <th>us_2024_exports</th>\n",
       "      <th>us_2024_imports_(customs_basis)</th>\n",
       "      <th>trump_tariffs_alleged</th>\n",
       "      <th>trump_response</th>\n",
       "      <th>population</th>\n",
       "    </tr>\n",
       "  </thead>\n",
       "  <tbody>\n",
       "    <tr>\n",
       "      <th>0</th>\n",
       "      <td>Afghanistan</td>\n",
       "      <td>-11.1</td>\n",
       "      <td>11.4</td>\n",
       "      <td>22.6</td>\n",
       "      <td>49%</td>\n",
       "      <td>25%</td>\n",
       "      <td>41454761.0</td>\n",
       "    </tr>\n",
       "    <tr>\n",
       "      <th>1</th>\n",
       "      <td>Albania</td>\n",
       "      <td>13.4</td>\n",
       "      <td>141.7</td>\n",
       "      <td>128.3</td>\n",
       "      <td>10%</td>\n",
       "      <td>10%</td>\n",
       "      <td>2745972.0</td>\n",
       "    </tr>\n",
       "    <tr>\n",
       "      <th>2</th>\n",
       "      <td>Algeria</td>\n",
       "      <td>-1,447.10</td>\n",
       "      <td>1,014.50</td>\n",
       "      <td>2,461.60</td>\n",
       "      <td>59%</td>\n",
       "      <td>29%</td>\n",
       "      <td>46164219.0</td>\n",
       "    </tr>\n",
       "    <tr>\n",
       "      <th>3</th>\n",
       "      <td>Andorra</td>\n",
       "      <td>1.5</td>\n",
       "      <td>4.9</td>\n",
       "      <td>3.4</td>\n",
       "      <td>10%</td>\n",
       "      <td>10%</td>\n",
       "      <td>80856.0</td>\n",
       "    </tr>\n",
       "    <tr>\n",
       "      <th>4</th>\n",
       "      <td>Angola</td>\n",
       "      <td>-1,186.90</td>\n",
       "      <td>682.4</td>\n",
       "      <td>1,869.20</td>\n",
       "      <td>63%</td>\n",
       "      <td>32%</td>\n",
       "      <td>36749906.0</td>\n",
       "    </tr>\n",
       "  </tbody>\n",
       "</table>\n",
       "</div>"
      ],
      "text/plain": [
       "       country us_2024_deficit us_2024_exports  \\\n",
       "0  Afghanistan           -11.1            11.4   \n",
       "1      Albania            13.4           141.7   \n",
       "2      Algeria       -1,447.10        1,014.50   \n",
       "3      Andorra             1.5             4.9   \n",
       "4       Angola       -1,186.90           682.4   \n",
       "\n",
       "  us_2024_imports_(customs_basis) trump_tariffs_alleged trump_response  \\\n",
       "0                            22.6                   49%            25%   \n",
       "1                           128.3                   10%            10%   \n",
       "2                        2,461.60                   59%            29%   \n",
       "3                             3.4                   10%            10%   \n",
       "4                        1,869.20                   63%            32%   \n",
       "\n",
       "   population  \n",
       "0  41454761.0  \n",
       "1   2745972.0  \n",
       "2  46164219.0  \n",
       "3     80856.0  \n",
       "4  36749906.0  "
      ]
     },
     "execution_count": 44,
     "metadata": {},
     "output_type": "execute_result"
    }
   ],
   "source": [
    "tariff_data.columns = tariff_data.columns.str.strip().str.lower().str.replace(\" \", \"_\")\n",
    "tariff_data.head(5)"
   ]
  },
  {
   "cell_type": "markdown",
   "id": "1e6c730f",
   "metadata": {},
   "source": [
    "## Question 3\n",
    "Convert to numeric, turn the Percentages in 'trup_tariffs_alleged' and 'trump_response' to decimals. Also remove commas from us_2024_exports,  us_2024_deficit and us_2024_imports_(customs_basis)."
   ]
  },
  {
   "cell_type": "code",
   "execution_count": 45,
   "id": "4127f717",
   "metadata": {},
   "outputs": [
    {
     "data": {
      "text/plain": [
       "np.True_"
      ]
     },
     "execution_count": 45,
     "metadata": {},
     "output_type": "execute_result"
    }
   ],
   "source": [
    "contain_percent = tariff_data[\"trump_response\"].apply(lambda x: \"%\" in str(x)).all()\n",
    "contain_percent  # checking all values contain a %, not necessary here but can be good practice to see if I should use np.where to apply conditionally"
   ]
  },
  {
   "cell_type": "code",
   "execution_count": 46,
   "id": "083f93d3",
   "metadata": {},
   "outputs": [],
   "source": [
    "cols_to_convert = [\"trump_tariffs_alleged\", \"trump_response\"]\n",
    "\n",
    "for col in cols_to_convert:\n",
    "    tariff_data[col] = (\n",
    "        tariff_data[col].astype(str).str.replace(\"%\", \"\").astype(float) / 100\n",
    "    )"
   ]
  },
  {
   "cell_type": "code",
   "execution_count": 47,
   "id": "73bc6a9a",
   "metadata": {},
   "outputs": [],
   "source": [
    "cols_to_convert = [\n",
    "    \"us_2024_deficit\",\n",
    "    \"us_2024_exports\",\n",
    "    \"us_2024_imports_(customs_basis)\",\n",
    "]\n",
    "for col in cols_to_convert:\n",
    "    tariff_data[col] = tariff_data[col].astype(str).str.replace(\",\", \"\", regex=False)"
   ]
  },
  {
   "cell_type": "markdown",
   "id": "cda0b375",
   "metadata": {},
   "source": [
    "## Question 4\n",
    "Identify the 5 countries with the highest us_2024_exports."
   ]
  },
  {
   "cell_type": "code",
   "execution_count": 48,
   "id": "f4320192",
   "metadata": {},
   "outputs": [
    {
     "data": {
      "text/html": [
       "<div>\n",
       "<style scoped>\n",
       "    .dataframe tbody tr th:only-of-type {\n",
       "        vertical-align: middle;\n",
       "    }\n",
       "\n",
       "    .dataframe tbody tr th {\n",
       "        vertical-align: top;\n",
       "    }\n",
       "\n",
       "    .dataframe thead th {\n",
       "        text-align: right;\n",
       "    }\n",
       "</style>\n",
       "<table border=\"1\" class=\"dataframe\">\n",
       "  <thead>\n",
       "    <tr style=\"text-align: right;\">\n",
       "      <th></th>\n",
       "      <th>country</th>\n",
       "      <th>us_2024_deficit</th>\n",
       "      <th>us_2024_exports</th>\n",
       "      <th>us_2024_imports_(customs_basis)</th>\n",
       "      <th>trump_tariffs_alleged</th>\n",
       "      <th>trump_response</th>\n",
       "      <th>population</th>\n",
       "    </tr>\n",
       "  </thead>\n",
       "  <tbody>\n",
       "    <tr>\n",
       "      <th>83</th>\n",
       "      <td>Iceland</td>\n",
       "      <td>-86.8</td>\n",
       "      <td>985.8</td>\n",
       "      <td>1072.60</td>\n",
       "      <td>0.10</td>\n",
       "      <td>0.10</td>\n",
       "      <td>393349.0</td>\n",
       "    </tr>\n",
       "    <tr>\n",
       "      <th>76</th>\n",
       "      <td>Guatemala*</td>\n",
       "      <td>4694.90</td>\n",
       "      <td>9714.80</td>\n",
       "      <td>5019.90</td>\n",
       "      <td>0.10</td>\n",
       "      <td>0.10</td>\n",
       "      <td>18124838.0</td>\n",
       "    </tr>\n",
       "    <tr>\n",
       "      <th>47</th>\n",
       "      <td>Costa Rica**</td>\n",
       "      <td>-1958.10</td>\n",
       "      <td>9676.80</td>\n",
       "      <td>11634.90</td>\n",
       "      <td>0.17</td>\n",
       "      <td>0.10</td>\n",
       "      <td>5105525.0</td>\n",
       "    </tr>\n",
       "    <tr>\n",
       "      <th>71</th>\n",
       "      <td>Ghana</td>\n",
       "      <td>-204.4</td>\n",
       "      <td>967.3</td>\n",
       "      <td>1171.70</td>\n",
       "      <td>0.17</td>\n",
       "      <td>0.10</td>\n",
       "      <td>33787914.0</td>\n",
       "    </tr>\n",
       "    <tr>\n",
       "      <th>57</th>\n",
       "      <td>Equatorial Guinea</td>\n",
       "      <td>-32.3</td>\n",
       "      <td>95.4</td>\n",
       "      <td>127.6</td>\n",
       "      <td>0.25</td>\n",
       "      <td>0.13</td>\n",
       "      <td>1847549.0</td>\n",
       "    </tr>\n",
       "  </tbody>\n",
       "</table>\n",
       "</div>"
      ],
      "text/plain": [
       "              country us_2024_deficit us_2024_exports  \\\n",
       "83            Iceland           -86.8           985.8   \n",
       "76         Guatemala*         4694.90         9714.80   \n",
       "47       Costa Rica**        -1958.10         9676.80   \n",
       "71              Ghana          -204.4           967.3   \n",
       "57  Equatorial Guinea           -32.3            95.4   \n",
       "\n",
       "   us_2024_imports_(customs_basis)  trump_tariffs_alleged  trump_response  \\\n",
       "83                         1072.60                   0.10            0.10   \n",
       "76                         5019.90                   0.10            0.10   \n",
       "47                        11634.90                   0.17            0.10   \n",
       "71                         1171.70                   0.17            0.10   \n",
       "57                           127.6                   0.25            0.13   \n",
       "\n",
       "    population  \n",
       "83    393349.0  \n",
       "76  18124838.0  \n",
       "47   5105525.0  \n",
       "71  33787914.0  \n",
       "57   1847549.0  "
      ]
     },
     "execution_count": 48,
     "metadata": {},
     "output_type": "execute_result"
    }
   ],
   "source": [
    "tariff_data.sort_values(by=\"us_2024_exports\", ascending=False).head()"
   ]
  },
  {
   "cell_type": "markdown",
   "id": "e72021e8",
   "metadata": {},
   "source": [
    "## Question 5\n",
    "Calculate the total US trade balance across all countries by summing us_2024_exports - us_2024_imports_(customs_basis)"
   ]
  },
  {
   "cell_type": "code",
   "execution_count": 49,
   "id": "c0ce5a13",
   "metadata": {},
   "outputs": [
    {
     "data": {
      "text/plain": [
       "0         -11.2\n",
       "1          13.4\n",
       "2       -1447.1\n",
       "3           1.5\n",
       "4       -1186.8\n",
       "         ...   \n",
       "199   -123463.0\n",
       "200        -2.3\n",
       "201       125.2\n",
       "202       -55.3\n",
       "203       -24.0\n",
       "Name: us_trade_balance, Length: 204, dtype: float64"
      ]
     },
     "execution_count": 49,
     "metadata": {},
     "output_type": "execute_result"
    }
   ],
   "source": [
    "tariff_data[\"us_trade_balance\"] = tariff_data[\"us_2024_exports\"].astype(\n",
    "    float\n",
    ") - tariff_data[\"us_2024_imports_(customs_basis)\"].astype(float)\n",
    "tariff_data[\"us_trade_balance\"]"
   ]
  }
 ],
 "metadata": {
  "kernelspec": {
   "display_name": ".venv",
   "language": "python",
   "name": "python3"
  },
  "language_info": {
   "codemirror_mode": {
    "name": "ipython",
    "version": 3
   },
   "file_extension": ".py",
   "mimetype": "text/x-python",
   "name": "python",
   "nbconvert_exporter": "python",
   "pygments_lexer": "ipython3",
   "version": "3.12.9"
  }
 },
 "nbformat": 4,
 "nbformat_minor": 5
}
