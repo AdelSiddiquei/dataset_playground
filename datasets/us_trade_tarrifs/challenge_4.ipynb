{
 "cells": [
  {
   "cell_type": "markdown",
   "id": "bad1fd81",
   "metadata": {},
   "source": [
    "# Challenge 4\n",
    "This challenge explores calculated fields, null-handling, and per capita analysis."
   ]
  },
  {
   "cell_type": "code",
   "execution_count": 39,
   "id": "bfbadd33",
   "metadata": {},
   "outputs": [],
   "source": [
    "import pandas as pd\n",
    "import numpy as np\n",
    "import matplotlib.pyplot as plt\n",
    "\n",
    "tariff_data = pd.read_csv('./data/Tariff Calculations plus Population.csv', delimiter=\";\")\n",
    "tariff_data.columns = tariff_data.columns.str.strip().str.lower().str.replace(' ', '_')\n",
    "\n",
    "cols_to_convert = ['us_2024_deficit', 'us_2024_exports', 'us_2024_imports_(customs_basis)']\n",
    "for col in cols_to_convert:\n",
    "    tariff_data[col] = tariff_data[col].astype(str).str.replace(',', '', regex= False)"
   ]
  },
  {
   "cell_type": "markdown",
   "id": "445b2302",
   "metadata": {},
   "source": [
    "## Task 1\n",
    "Filter out rows where `population` is null or zero."
   ]
  },
  {
   "cell_type": "code",
   "execution_count": 40,
   "id": "c7c62d18",
   "metadata": {},
   "outputs": [],
   "source": [
    "pop_tariff_data = tariff_data.dropna(subset='population')"
   ]
  },
  {
   "cell_type": "markdown",
   "id": "c460aa3e",
   "metadata": {},
   "source": [
    "## Task 2\n",
    "Create two new columns:\n",
    "   - `exports_per_capita` = `us_2024_exports` / `population`  \n",
    "   - `imports_per_capita` = `us_2024_imports_customs_basis` / `population`"
   ]
  },
  {
   "cell_type": "code",
   "execution_count": 41,
   "id": "b2abac4d",
   "metadata": {},
   "outputs": [
    {
     "name": "stderr",
     "output_type": "stream",
     "text": [
      "/var/folders/ds/0fdzpn592cq6p2f7rr55tf240000gn/T/ipykernel_12817/4142697062.py:1: SettingWithCopyWarning: \n",
      "A value is trying to be set on a copy of a slice from a DataFrame.\n",
      "Try using .loc[row_indexer,col_indexer] = value instead\n",
      "\n",
      "See the caveats in the documentation: https://pandas.pydata.org/pandas-docs/stable/user_guide/indexing.html#returning-a-view-versus-a-copy\n",
      "  pop_tariff_data['exports_per_capita'] = pop_tariff_data['us_2024_exports'].astype(float)/pop_tariff_data['population'].astype(float)\n"
     ]
    },
    {
     "data": {
      "text/plain": [
       "0      2.749986e-07\n",
       "1      5.160286e-05\n",
       "2      2.197589e-05\n",
       "3      6.060156e-05\n",
       "4      1.856875e-05\n",
       "           ...     \n",
       "198    1.495361e-04\n",
       "199    1.305223e-04\n",
       "201    3.404348e-06\n",
       "202    5.491227e-06\n",
       "203    2.680404e-06\n",
       "Name: exports_per_capita, Length: 172, dtype: float64"
      ]
     },
     "execution_count": 41,
     "metadata": {},
     "output_type": "execute_result"
    }
   ],
   "source": [
    "pop_tariff_data['exports_per_capita'] = pop_tariff_data['us_2024_exports'].astype(float)/pop_tariff_data['population'].astype(float)\n",
    "pop_tariff_data['exports_per_capita']"
   ]
  },
  {
   "cell_type": "code",
   "execution_count": 42,
   "id": "79af8a45",
   "metadata": {},
   "outputs": [
    {
     "name": "stderr",
     "output_type": "stream",
     "text": [
      "/var/folders/ds/0fdzpn592cq6p2f7rr55tf240000gn/T/ipykernel_12817/455945066.py:1: SettingWithCopyWarning: \n",
      "A value is trying to be set on a copy of a slice from a DataFrame.\n",
      "Try using .loc[row_indexer,col_indexer] = value instead\n",
      "\n",
      "See the caveats in the documentation: https://pandas.pydata.org/pandas-docs/stable/user_guide/indexing.html#returning-a-view-versus-a-copy\n",
      "  pop_tariff_data['imports_per_capita'] = pop_tariff_data['us_2024_imports_(customs_basis)'].astype(float)/pop_tariff_data['population'].astype(float)\n"
     ]
    },
    {
     "data": {
      "text/plain": [
       "0      5.451726e-07\n",
       "1      4.672298e-05\n",
       "2      5.332268e-05\n",
       "3      4.205006e-05\n",
       "4      5.086272e-05\n",
       "           ...     \n",
       "198    2.115802e-04\n",
       "199    1.360819e-03\n",
       "201    2.259411e-07\n",
       "202    8.159635e-06\n",
       "203    4.149118e-06\n",
       "Name: imports_per_capita, Length: 172, dtype: float64"
      ]
     },
     "execution_count": 42,
     "metadata": {},
     "output_type": "execute_result"
    }
   ],
   "source": [
    "pop_tariff_data['imports_per_capita'] = pop_tariff_data['us_2024_imports_(customs_basis)'].astype(float)/pop_tariff_data['population'].astype(float)\n",
    "pop_tariff_data['imports_per_capita']"
   ]
  },
  {
   "cell_type": "markdown",
   "id": "f1502281",
   "metadata": {},
   "source": [
    "## Task 3\n",
    "Sort the data using a multi-index:\n",
    "- First by `exports_per_capita` (descending)  \n",
    "- Then by `imports_per_capita` (ascending)"
   ]
  },
  {
   "cell_type": "code",
   "execution_count": 43,
   "id": "0684e61e",
   "metadata": {},
   "outputs": [
    {
     "data": {
      "text/html": [
       "<div>\n",
       "<style scoped>\n",
       "    .dataframe tbody tr th:only-of-type {\n",
       "        vertical-align: middle;\n",
       "    }\n",
       "\n",
       "    .dataframe tbody tr th {\n",
       "        vertical-align: top;\n",
       "    }\n",
       "\n",
       "    .dataframe thead th {\n",
       "        text-align: right;\n",
       "    }\n",
       "</style>\n",
       "<table border=\"1\" class=\"dataframe\">\n",
       "  <thead>\n",
       "    <tr style=\"text-align: right;\">\n",
       "      <th></th>\n",
       "      <th>country</th>\n",
       "      <th>us_2024_deficit</th>\n",
       "      <th>us_2024_exports</th>\n",
       "      <th>us_2024_imports_(customs_basis)</th>\n",
       "      <th>trump_tariffs_alleged</th>\n",
       "      <th>trump_response</th>\n",
       "      <th>population</th>\n",
       "      <th>exports_per_capita</th>\n",
       "      <th>imports_per_capita</th>\n",
       "    </tr>\n",
       "  </thead>\n",
       "  <tbody>\n",
       "    <tr>\n",
       "      <th>189</th>\n",
       "      <td>Tuvalu (-)</td>\n",
       "      <td>106</td>\n",
       "      <td>226</td>\n",
       "      <td>222</td>\n",
       "      <td>10%</td>\n",
       "      <td>10%</td>\n",
       "      <td>9816.0</td>\n",
       "      <td>2.302363e-02</td>\n",
       "      <td>2.261614e-02</td>\n",
       "    </tr>\n",
       "    <tr>\n",
       "      <th>160</th>\n",
       "      <td>Sint Maarten</td>\n",
       "      <td>652.4</td>\n",
       "      <td>753.9</td>\n",
       "      <td>101.5</td>\n",
       "      <td>10%</td>\n",
       "      <td>10%</td>\n",
       "      <td>42749.0</td>\n",
       "      <td>1.763550e-02</td>\n",
       "      <td>2.374325e-03</td>\n",
       "    </tr>\n",
       "    <tr>\n",
       "      <th>35</th>\n",
       "      <td>Cayman Islands</td>\n",
       "      <td>1237.10</td>\n",
       "      <td>1286.50</td>\n",
       "      <td>49.4</td>\n",
       "      <td>10%</td>\n",
       "      <td>10%</td>\n",
       "      <td>73038.0</td>\n",
       "      <td>1.761412e-02</td>\n",
       "      <td>6.763603e-04</td>\n",
       "    </tr>\n",
       "    <tr>\n",
       "      <th>72</th>\n",
       "      <td>Gibraltar</td>\n",
       "      <td>650.2</td>\n",
       "      <td>650.6</td>\n",
       "      <td>0.4</td>\n",
       "      <td>10%</td>\n",
       "      <td>10%</td>\n",
       "      <td>38471.0</td>\n",
       "      <td>1.691144e-02</td>\n",
       "      <td>1.039744e-05</td>\n",
       "    </tr>\n",
       "    <tr>\n",
       "      <th>188</th>\n",
       "      <td>Turks and Caicos Islands</td>\n",
       "      <td>702.6</td>\n",
       "      <td>713.6</td>\n",
       "      <td>11</td>\n",
       "      <td>10%</td>\n",
       "      <td>10%</td>\n",
       "      <td>46198.0</td>\n",
       "      <td>1.544656e-02</td>\n",
       "      <td>2.381055e-04</td>\n",
       "    </tr>\n",
       "    <tr>\n",
       "      <th>...</th>\n",
       "      <td>...</td>\n",
       "      <td>...</td>\n",
       "      <td>...</td>\n",
       "      <td>...</td>\n",
       "      <td>...</td>\n",
       "      <td>...</td>\n",
       "      <td>...</td>\n",
       "      <td>...</td>\n",
       "      <td>...</td>\n",
       "    </tr>\n",
       "    <tr>\n",
       "      <th>16</th>\n",
       "      <td>Belarus</td>\n",
       "      <td>-9.4</td>\n",
       "      <td>10.6</td>\n",
       "      <td>20</td>\n",
       "      <td>47%</td>\n",
       "      <td>24%</td>\n",
       "      <td>9178298.0</td>\n",
       "      <td>1.154898e-06</td>\n",
       "      <td>2.179053e-06</td>\n",
       "    </tr>\n",
       "    <tr>\n",
       "      <th>171</th>\n",
       "      <td>Sudan</td>\n",
       "      <td>43.5</td>\n",
       "      <td>56.6</td>\n",
       "      <td>13.1</td>\n",
       "      <td>10%</td>\n",
       "      <td>10%</td>\n",
       "      <td>50042791.0</td>\n",
       "      <td>1.131032e-06</td>\n",
       "      <td>2.617760e-07</td>\n",
       "    </tr>\n",
       "    <tr>\n",
       "      <th>86</th>\n",
       "      <td>Iran</td>\n",
       "      <td>84.6</td>\n",
       "      <td>90.8</td>\n",
       "      <td>6.2</td>\n",
       "      <td>10%</td>\n",
       "      <td>10%</td>\n",
       "      <td>90608707.0</td>\n",
       "      <td>1.002111e-06</td>\n",
       "      <td>6.842610e-08</td>\n",
       "    </tr>\n",
       "    <tr>\n",
       "      <th>30</th>\n",
       "      <td>Burundi</td>\n",
       "      <td>2.9</td>\n",
       "      <td>6.6</td>\n",
       "      <td>3.7</td>\n",
       "      <td>10%</td>\n",
       "      <td>10%</td>\n",
       "      <td>13689450.0</td>\n",
       "      <td>4.821231e-07</td>\n",
       "      <td>2.702811e-07</td>\n",
       "    </tr>\n",
       "    <tr>\n",
       "      <th>0</th>\n",
       "      <td>Afghanistan</td>\n",
       "      <td>-11.1</td>\n",
       "      <td>11.4</td>\n",
       "      <td>22.6</td>\n",
       "      <td>49%</td>\n",
       "      <td>25%</td>\n",
       "      <td>41454761.0</td>\n",
       "      <td>2.749986e-07</td>\n",
       "      <td>5.451726e-07</td>\n",
       "    </tr>\n",
       "  </tbody>\n",
       "</table>\n",
       "<p>172 rows × 9 columns</p>\n",
       "</div>"
      ],
      "text/plain": [
       "                      country us_2024_deficit us_2024_exports  \\\n",
       "189                Tuvalu (-)             106             226   \n",
       "160              Sint Maarten           652.4           753.9   \n",
       "35             Cayman Islands         1237.10         1286.50   \n",
       "72                  Gibraltar           650.2           650.6   \n",
       "188  Turks and Caicos Islands           702.6           713.6   \n",
       "..                        ...             ...             ...   \n",
       "16                    Belarus            -9.4            10.6   \n",
       "171                     Sudan            43.5            56.6   \n",
       "86                       Iran            84.6            90.8   \n",
       "30                    Burundi             2.9             6.6   \n",
       "0                 Afghanistan           -11.1            11.4   \n",
       "\n",
       "    us_2024_imports_(customs_basis) trump_tariffs_alleged trump_response  \\\n",
       "189                             222                   10%            10%   \n",
       "160                           101.5                   10%            10%   \n",
       "35                             49.4                   10%            10%   \n",
       "72                              0.4                   10%            10%   \n",
       "188                              11                   10%            10%   \n",
       "..                              ...                   ...            ...   \n",
       "16                               20                   47%            24%   \n",
       "171                            13.1                   10%            10%   \n",
       "86                              6.2                   10%            10%   \n",
       "30                              3.7                   10%            10%   \n",
       "0                              22.6                   49%            25%   \n",
       "\n",
       "     population  exports_per_capita  imports_per_capita  \n",
       "189      9816.0        2.302363e-02        2.261614e-02  \n",
       "160     42749.0        1.763550e-02        2.374325e-03  \n",
       "35      73038.0        1.761412e-02        6.763603e-04  \n",
       "72      38471.0        1.691144e-02        1.039744e-05  \n",
       "188     46198.0        1.544656e-02        2.381055e-04  \n",
       "..          ...                 ...                 ...  \n",
       "16    9178298.0        1.154898e-06        2.179053e-06  \n",
       "171  50042791.0        1.131032e-06        2.617760e-07  \n",
       "86   90608707.0        1.002111e-06        6.842610e-08  \n",
       "30   13689450.0        4.821231e-07        2.702811e-07  \n",
       "0    41454761.0        2.749986e-07        5.451726e-07  \n",
       "\n",
       "[172 rows x 9 columns]"
      ]
     },
     "execution_count": 43,
     "metadata": {},
     "output_type": "execute_result"
    }
   ],
   "source": [
    "pop_tariff_data = pop_tariff_data.sort_values(['exports_per_capita', 'imports_per_capita'], ascending=[False,True])\n",
    "pop_tariff_data\n",
    "#Note the reassignment to apply the new order to the df\n"
   ]
  },
  {
   "cell_type": "markdown",
   "id": "134a877b",
   "metadata": {},
   "source": [
    "## Task 4\n",
    "Identify the top 5 countries by `exports_per_capita`."
   ]
  },
  {
   "cell_type": "code",
   "execution_count": 49,
   "id": "7e4fc06d",
   "metadata": {},
   "outputs": [
    {
     "data": {
      "text/html": [
       "<div>\n",
       "<style scoped>\n",
       "    .dataframe tbody tr th:only-of-type {\n",
       "        vertical-align: middle;\n",
       "    }\n",
       "\n",
       "    .dataframe tbody tr th {\n",
       "        vertical-align: top;\n",
       "    }\n",
       "\n",
       "    .dataframe thead th {\n",
       "        text-align: right;\n",
       "    }\n",
       "</style>\n",
       "<table border=\"1\" class=\"dataframe\">\n",
       "  <thead>\n",
       "    <tr style=\"text-align: right;\">\n",
       "      <th></th>\n",
       "      <th>country</th>\n",
       "      <th>exports_per_capita</th>\n",
       "    </tr>\n",
       "  </thead>\n",
       "  <tbody>\n",
       "    <tr>\n",
       "      <th>189</th>\n",
       "      <td>Tuvalu (-)</td>\n",
       "      <td>0.023024</td>\n",
       "    </tr>\n",
       "    <tr>\n",
       "      <th>160</th>\n",
       "      <td>Sint Maarten</td>\n",
       "      <td>0.017636</td>\n",
       "    </tr>\n",
       "    <tr>\n",
       "      <th>35</th>\n",
       "      <td>Cayman Islands</td>\n",
       "      <td>0.017614</td>\n",
       "    </tr>\n",
       "    <tr>\n",
       "      <th>72</th>\n",
       "      <td>Gibraltar</td>\n",
       "      <td>0.016911</td>\n",
       "    </tr>\n",
       "    <tr>\n",
       "      <th>188</th>\n",
       "      <td>Turks and Caicos Islands</td>\n",
       "      <td>0.015447</td>\n",
       "    </tr>\n",
       "  </tbody>\n",
       "</table>\n",
       "</div>"
      ],
      "text/plain": [
       "                      country  exports_per_capita\n",
       "189                Tuvalu (-)            0.023024\n",
       "160              Sint Maarten            0.017636\n",
       "35             Cayman Islands            0.017614\n",
       "72                  Gibraltar            0.016911\n",
       "188  Turks and Caicos Islands            0.015447"
      ]
     },
     "execution_count": 49,
     "metadata": {},
     "output_type": "execute_result"
    }
   ],
   "source": [
    "pop_tariff_data[['country', 'exports_per_capita']].head(5)\n",
    "# No need to sort as it is still sorted from previous task."
   ]
  },
  {
   "cell_type": "markdown",
   "id": "70b26f4d",
   "metadata": {},
   "source": [
    "# Task 5\n",
    "Create a scatter plot of `exports_per_capita` vs. `imports_per_capita`, color-coded by `trade_balance_flag`."
   ]
  },
  {
   "cell_type": "code",
   "execution_count": 50,
   "id": "8e153ad3",
   "metadata": {},
   "outputs": [
    {
     "data": {
      "text/plain": [
       "<matplotlib.collections.PathCollection at 0x1468963c0>"
      ]
     },
     "execution_count": 50,
     "metadata": {},
     "output_type": "execute_result"
    },
    {
     "data": {
      "image/png": "[encoded data removed]",
      "text/plain": [
       "<Figure size 640x480 with 1 Axes>"
      ]
     },
     "metadata": {},
     "output_type": "display_data"
    }
   ],
   "source": [
    "plt.scatter(pop_tariff_data['exports_per_capita'], pop_tariff_data['imports_per_capita'])"
   ]
  }
 ],
 "metadata": {
  "kernelspec": {
   "display_name": ".venv",
   "language": "python",
   "name": "python3"
  },
  "language_info": {
   "codemirror_mode": {
    "name": "ipython",
    "version": 3
   },
   "file_extension": ".py",
   "mimetype": "text/x-python",
   "name": "python",
   "nbconvert_exporter": "python",
   "pygments_lexer": "ipython3",
   "version": "3.12.9"
  }
 },
 "nbformat": 4,
 "nbformat_minor": 5
}
