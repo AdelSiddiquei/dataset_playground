{
 "cells": [
  {
   "cell_type": "markdown",
   "id": "4b2dd4a1",
   "metadata": {},
   "source": [
    "# Challenge 3: Trade Balance Classification\n",
    "This challenge tests your ability to create new columns using conditional logic with `numpy.where()`."
   ]
  },
  {
   "cell_type": "code",
   "execution_count": 6,
   "id": "86abb41c",
   "metadata": {},
   "outputs": [],
   "source": [
    "import pandas as pd\n",
    "import numpy as np\n",
    "import matplotlib.pyplot as plt\n",
    "\n",
    "tariff_data = pd.read_csv('./data/Tariff Calculations plus Population.csv', delimiter=\";\")\n",
    "tariff_data.columns = tariff_data.columns.str.strip().str.lower().str.replace(' ', '_')"
   ]
  },
  {
   "cell_type": "code",
   "execution_count": 7,
   "id": "e1ad3e6d",
   "metadata": {},
   "outputs": [
    {
     "data": {
      "text/html": [
       "<div>\n",
       "<style scoped>\n",
       "    .dataframe tbody tr th:only-of-type {\n",
       "        vertical-align: middle;\n",
       "    }\n",
       "\n",
       "    .dataframe tbody tr th {\n",
       "        vertical-align: top;\n",
       "    }\n",
       "\n",
       "    .dataframe thead th {\n",
       "        text-align: right;\n",
       "    }\n",
       "</style>\n",
       "<table border=\"1\" class=\"dataframe\">\n",
       "  <thead>\n",
       "    <tr style=\"text-align: right;\">\n",
       "      <th></th>\n",
       "      <th>country</th>\n",
       "      <th>us_2024_deficit</th>\n",
       "      <th>us_2024_exports</th>\n",
       "      <th>us_2024_imports_(customs_basis)</th>\n",
       "      <th>trump_tariffs_alleged</th>\n",
       "      <th>trump_response</th>\n",
       "      <th>population</th>\n",
       "    </tr>\n",
       "  </thead>\n",
       "  <tbody>\n",
       "    <tr>\n",
       "      <th>0</th>\n",
       "      <td>Afghanistan</td>\n",
       "      <td>-11.1</td>\n",
       "      <td>11.4</td>\n",
       "      <td>22.6</td>\n",
       "      <td>49%</td>\n",
       "      <td>25%</td>\n",
       "      <td>41454761.0</td>\n",
       "    </tr>\n",
       "    <tr>\n",
       "      <th>1</th>\n",
       "      <td>Albania</td>\n",
       "      <td>13.4</td>\n",
       "      <td>141.7</td>\n",
       "      <td>128.3</td>\n",
       "      <td>10%</td>\n",
       "      <td>10%</td>\n",
       "      <td>2745972.0</td>\n",
       "    </tr>\n",
       "    <tr>\n",
       "      <th>2</th>\n",
       "      <td>Algeria</td>\n",
       "      <td>-1,447.10</td>\n",
       "      <td>1,014.50</td>\n",
       "      <td>2,461.60</td>\n",
       "      <td>59%</td>\n",
       "      <td>29%</td>\n",
       "      <td>46164219.0</td>\n",
       "    </tr>\n",
       "    <tr>\n",
       "      <th>3</th>\n",
       "      <td>Andorra</td>\n",
       "      <td>1.5</td>\n",
       "      <td>4.9</td>\n",
       "      <td>3.4</td>\n",
       "      <td>10%</td>\n",
       "      <td>10%</td>\n",
       "      <td>80856.0</td>\n",
       "    </tr>\n",
       "    <tr>\n",
       "      <th>4</th>\n",
       "      <td>Angola</td>\n",
       "      <td>-1,186.90</td>\n",
       "      <td>682.4</td>\n",
       "      <td>1,869.20</td>\n",
       "      <td>63%</td>\n",
       "      <td>32%</td>\n",
       "      <td>36749906.0</td>\n",
       "    </tr>\n",
       "  </tbody>\n",
       "</table>\n",
       "</div>"
      ],
      "text/plain": [
       "       country us_2024_deficit us_2024_exports  \\\n",
       "0  Afghanistan           -11.1            11.4   \n",
       "1      Albania            13.4           141.7   \n",
       "2      Algeria       -1,447.10        1,014.50   \n",
       "3      Andorra             1.5             4.9   \n",
       "4       Angola       -1,186.90           682.4   \n",
       "\n",
       "  us_2024_imports_(customs_basis) trump_tariffs_alleged trump_response  \\\n",
       "0                            22.6                   49%            25%   \n",
       "1                           128.3                   10%            10%   \n",
       "2                        2,461.60                   59%            29%   \n",
       "3                             3.4                   10%            10%   \n",
       "4                        1,869.20                   63%            32%   \n",
       "\n",
       "   population  \n",
       "0  41454761.0  \n",
       "1   2745972.0  \n",
       "2  46164219.0  \n",
       "3     80856.0  \n",
       "4  36749906.0  "
      ]
     },
     "execution_count": 7,
     "metadata": {},
     "output_type": "execute_result"
    }
   ],
   "source": [
    "tariff_data.head()"
   ]
  },
  {
   "cell_type": "markdown",
   "id": "eba2db98",
   "metadata": {},
   "source": [
    "## Task 1\n",
    " Create a new column `trade_balance_flag` using `np.where()`:\n",
    "   - `\"Surplus\"` if `us_2024_exports` > `us_2024_imports_customs_basis`  \n",
    "   - `\"Deficit\"` if `us_2024_imports_customs_basis` > `us_2024_exports`  \n",
    "   - `\"Balanced\"` otherwise"
   ]
  },
  {
   "cell_type": "code",
   "execution_count": 8,
   "id": "92705b67",
   "metadata": {},
   "outputs": [],
   "source": [
    "tariff_data['trade_balance_flag'] = np.where(\n",
    "    tariff_data['us_2024_exports'] > tariff_data['us_2024_imports_(customs_basis)'], \n",
    "    'surplus', \n",
    "    np.where(\n",
    "        tariff_data['us_2024_exports'] < tariff_data['us_2024_imports_(customs_basis)'], \n",
    "        'deficit', \n",
    "        'balanced'\n",
    "    )\n",
    ")"
   ]
  },
  {
   "cell_type": "markdown",
   "id": "fff87837",
   "metadata": {},
   "source": [
    "## Task 2\n",
    "Count the number of countries in each trade balance category."
   ]
  },
  {
   "cell_type": "code",
   "execution_count": 9,
   "id": "0855eb68",
   "metadata": {},
   "outputs": [
    {
     "data": {
      "text/plain": [
       "trade_balance_flag\n",
       "surplus    107\n",
       "deficit     97\n",
       "Name: count, dtype: int64"
      ]
     },
     "execution_count": 9,
     "metadata": {},
     "output_type": "execute_result"
    }
   ],
   "source": [
    "tariff_data['trade_balance_flag'].value_counts()"
   ]
  },
  {
   "cell_type": "markdown",
   "id": "430bdf85",
   "metadata": {},
   "source": [
    "## Task 3\n",
    "Plot a bar chart showing the number of countries per `trade_balance_flag`."
   ]
  },
  {
   "cell_type": "code",
   "execution_count": 11,
   "id": "5e93b047",
   "metadata": {},
   "outputs": [
    {
     "data": {
      "text/plain": [
       "<BarContainer object of 2 artists>"
      ]
     },
     "execution_count": 11,
     "metadata": {},
     "output_type": "execute_result"
    },
    {
     "data": {
      "image/png": "[encoded data removed]",
      "text/plain": [
       "<Figure size 640x480 with 1 Axes>"
      ]
     },
     "metadata": {},
     "output_type": "display_data"
    }
   ],
   "source": [
    "plt.bar(['Surplus', 'Deficit'],tariff_data['trade_balance_flag'].value_counts())"
   ]
  }
 ],
 "metadata": {
  "kernelspec": {
   "display_name": ".venv",
   "language": "python",
   "name": "python3"
  },
  "language_info": {
   "codemirror_mode": {
    "name": "ipython",
    "version": 3
   },
   "file_extension": ".py",
   "mimetype": "text/x-python",
   "name": "python",
   "nbconvert_exporter": "python",
   "pygments_lexer": "ipython3",
   "version": "3.12.9"
  }
 },
 "nbformat": 4,
 "nbformat_minor": 5
}
